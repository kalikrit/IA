{
 "cells": [
  {
   "cell_type": "code",
   "execution_count": 1,
   "id": "22525256-48a5-4378-bf06-ed5747afeb99",
   "metadata": {},
   "outputs": [
    {
     "name": "stdout",
     "output_type": "stream",
     "text": [
      "Checking whether there is an H2O instance running at http://localhost:54321..... not found.\n",
      "Attempting to start a local H2O server...\n",
      "  Java Version: openjdk version \"17.0.16\" 2025-07-15; OpenJDK Runtime Environment (build 17.0.16+8-Ubuntu-0ubuntu124.04.1); OpenJDK 64-Bit Server VM (build 17.0.16+8-Ubuntu-0ubuntu124.04.1, mixed mode, sharing)\n",
      "  Starting server from /home/konstantin/anaconda3/lib/python3.12/site-packages/h2o/backend/bin/h2o.jar\n",
      "  Ice root: /tmp/tmp__jd975d\n",
      "  JVM stdout: /tmp/tmp__jd975d/h2o_konstantin_started_from_python.out\n",
      "  JVM stderr: /tmp/tmp__jd975d/h2o_konstantin_started_from_python.err\n",
      "  Server is running at http://127.0.0.1:54321\n",
      "Connecting to H2O server at http://127.0.0.1:54321 ... successful.\n",
      "Warning: Your H2O cluster version is (6 months and 2 days) old.  There may be a newer version available.\n",
      "Please download and install the latest version from: https://h2o-release.s3.amazonaws.com/h2o/latest_stable.html\n"
     ]
    },
    {
     "data": {
      "text/html": [
       "\n",
       "<style>\n",
       "\n",
       "#h2o-table-1.h2o-container {\n",
       "  overflow-x: auto;\n",
       "}\n",
       "#h2o-table-1 .h2o-table {\n",
       "  /* width: 100%; */\n",
       "  margin-top: 1em;\n",
       "  margin-bottom: 1em;\n",
       "}\n",
       "#h2o-table-1 .h2o-table caption {\n",
       "  white-space: nowrap;\n",
       "  caption-side: top;\n",
       "  text-align: left;\n",
       "  /* margin-left: 1em; */\n",
       "  margin: 0;\n",
       "  font-size: larger;\n",
       "}\n",
       "#h2o-table-1 .h2o-table thead {\n",
       "  white-space: nowrap; \n",
       "  position: sticky;\n",
       "  top: 0;\n",
       "  box-shadow: 0 -1px inset;\n",
       "}\n",
       "#h2o-table-1 .h2o-table tbody {\n",
       "  overflow: auto;\n",
       "}\n",
       "#h2o-table-1 .h2o-table th,\n",
       "#h2o-table-1 .h2o-table td {\n",
       "  text-align: right;\n",
       "  /* border: 1px solid; */\n",
       "}\n",
       "#h2o-table-1 .h2o-table tr:nth-child(even) {\n",
       "  /* background: #F5F5F5 */\n",
       "}\n",
       "\n",
       "</style>      \n",
       "<div id=\"h2o-table-1\" class=\"h2o-container\">\n",
       "  <table class=\"h2o-table\">\n",
       "    <caption></caption>\n",
       "    <thead></thead>\n",
       "    <tbody><tr><td>H2O_cluster_uptime:</td>\n",
       "<td>01 secs</td></tr>\n",
       "<tr><td>H2O_cluster_timezone:</td>\n",
       "<td>Europe/Moscow</td></tr>\n",
       "<tr><td>H2O_data_parsing_timezone:</td>\n",
       "<td>UTC</td></tr>\n",
       "<tr><td>H2O_cluster_version:</td>\n",
       "<td>3.46.0.7</td></tr>\n",
       "<tr><td>H2O_cluster_version_age:</td>\n",
       "<td>6 months and 2 days</td></tr>\n",
       "<tr><td>H2O_cluster_name:</td>\n",
       "<td>H2O_from_python_konstantin_p0ql0h</td></tr>\n",
       "<tr><td>H2O_cluster_total_nodes:</td>\n",
       "<td>1</td></tr>\n",
       "<tr><td>H2O_cluster_free_memory:</td>\n",
       "<td>1.859 Gb</td></tr>\n",
       "<tr><td>H2O_cluster_total_cores:</td>\n",
       "<td>8</td></tr>\n",
       "<tr><td>H2O_cluster_allowed_cores:</td>\n",
       "<td>8</td></tr>\n",
       "<tr><td>H2O_cluster_status:</td>\n",
       "<td>locked, healthy</td></tr>\n",
       "<tr><td>H2O_connection_url:</td>\n",
       "<td>http://127.0.0.1:54321</td></tr>\n",
       "<tr><td>H2O_connection_proxy:</td>\n",
       "<td>{\"http\": null, \"https\": null}</td></tr>\n",
       "<tr><td>H2O_internal_security:</td>\n",
       "<td>False</td></tr>\n",
       "<tr><td>Python_version:</td>\n",
       "<td>3.12.4 final</td></tr></tbody>\n",
       "  </table>\n",
       "</div>\n"
      ],
      "text/plain": [
       "--------------------------  ---------------------------------\n",
       "H2O_cluster_uptime:         01 secs\n",
       "H2O_cluster_timezone:       Europe/Moscow\n",
       "H2O_data_parsing_timezone:  UTC\n",
       "H2O_cluster_version:        3.46.0.7\n",
       "H2O_cluster_version_age:    6 months and 2 days\n",
       "H2O_cluster_name:           H2O_from_python_konstantin_p0ql0h\n",
       "H2O_cluster_total_nodes:    1\n",
       "H2O_cluster_free_memory:    1.859 Gb\n",
       "H2O_cluster_total_cores:    8\n",
       "H2O_cluster_allowed_cores:  8\n",
       "H2O_cluster_status:         locked, healthy\n",
       "H2O_connection_url:         http://127.0.0.1:54321\n",
       "H2O_connection_proxy:       {\"http\": null, \"https\": null}\n",
       "H2O_internal_security:      False\n",
       "Python_version:             3.12.4 final\n",
       "--------------------------  ---------------------------------"
      ]
     },
     "metadata": {},
     "output_type": "display_data"
    }
   ],
   "source": [
    "# Базовые импорты\n",
    "import h2o\n",
    "import pandas as pd\n",
    "from h2o.estimators import H2ORandomForestEstimator, H2OGradientBoostingEstimator\n",
    "from h2o.estimators.glm import H2OGeneralizedLinearEstimator\n",
    "\n",
    "# Инициализация H2O\n",
    "h2o.init()"
   ]
  },
  {
   "cell_type": "code",
   "execution_count": 2,
   "id": "36f49989-2be9-4322-8682-98661ad7a28a",
   "metadata": {},
   "outputs": [
    {
     "name": "stdout",
     "output_type": "stream",
     "text": [
      "Parse progress: |████████████████████████████████████████████████████████████████| (done) 100%\n",
      "Parse progress: |████████████████████████████████████████████████████████████████| (done) 100%\n"
     ]
    }
   ],
   "source": [
    "train = h2o.import_file(\"train.csv\")\n",
    "test = h2o.import_file(\"test.csv\")"
   ]
  },
  {
   "cell_type": "code",
   "execution_count": 4,
   "id": "1d62fee5-6b12-4920-8a38-684f804c59b6",
   "metadata": {},
   "outputs": [
    {
     "name": "stdout",
     "output_type": "stream",
     "text": [
      "Predictors: 20 features\n",
      "Response: HeartDisease\n"
     ]
    }
   ],
   "source": [
    "# Правильно определяем предикторы (исключаем целевую и дубликаты)\n",
    "response = \"HeartDisease\"\n",
    "predictors = [col for col in train.columns if col != response]\n",
    "\n",
    "# Преобразуем целевую в фактор\n",
    "train[response] = train[response].asfactor()\n",
    "test[response] = test[response].asfactor()\n",
    "\n",
    "print(f\"Predictors: {len(predictors)} features\")\n",
    "print(f\"Response: {response}\")"
   ]
  },
  {
   "cell_type": "code",
   "execution_count": 9,
   "id": "682e4ff4-3df1-4bdf-9806-2a6ac5e94413",
   "metadata": {},
   "outputs": [
    {
     "name": "stdout",
     "output_type": "stream",
     "text": [
      "glm Model Build progress: |██████████████████████████████████████████████████████| (done) 100%\n",
      "=== GLM RESULTS (CORRECTED) ===\n",
      "AUC: 0.9224951727097189\n"
     ]
    }
   ],
   "source": [
    "# 1. Логистическая регрессия (GLM)\n",
    "glm_model = H2OGeneralizedLinearEstimator(\n",
    "    family=\"binomial\",\n",
    "    model_id=\"glm_heart_disease_corrected\",\n",
    "    lambda_search=True,\n",
    "    nfolds=5\n",
    ")\n",
    "\n",
    "glm_model.train(\n",
    "    x=predictors,\n",
    "    y=response,\n",
    "    training_frame=train,\n",
    "    validation_frame=test\n",
    ")\n",
    "\n",
    "print(\"=== GLM RESULTS (CORRECTED) ===\")\n",
    "glm_perf = glm_model.model_performance(test)\n",
    "print(f\"AUC: {glm_perf.auc()}\")"
   ]
  },
  {
   "cell_type": "code",
   "execution_count": 5,
   "id": "296ea05a-a104-41ac-ae5b-65b3f9be8e45",
   "metadata": {},
   "outputs": [
    {
     "name": "stdout",
     "output_type": "stream",
     "text": [
      "drf Model Build progress: |██████████████████████████████████████████████████████| (done) 100%\n",
      "=== RANDOM FOREST RESULTS (CORRECTED) ===\n",
      "AUC: 0.9350729457198026\n"
     ]
    }
   ],
   "source": [
    "# 2. Случайный лес (RF)\n",
    "rf_model = H2ORandomForestEstimator(\n",
    "    model_id=\"rf_heart_disease_corrected\",\n",
    "    ntrees=100,\n",
    "    max_depth=20,\n",
    "    nfolds=5,\n",
    "    seed=42\n",
    ")\n",
    "\n",
    "rf_model.train(\n",
    "    x=predictors,\n",
    "    y=response,\n",
    "    training_frame=train,\n",
    "    validation_frame=test\n",
    ")\n",
    "\n",
    "print(\"=== RANDOM FOREST RESULTS (CORRECTED) ===\")\n",
    "rf_perf = rf_model.model_performance(test)\n",
    "print(f\"AUC: {rf_perf.auc()}\")"
   ]
  },
  {
   "cell_type": "code",
   "execution_count": 6,
   "id": "65c5804b-e927-4f46-b78a-1738be8918fc",
   "metadata": {},
   "outputs": [
    {
     "name": "stdout",
     "output_type": "stream",
     "text": [
      "gbm Model Build progress: |██████████████████████████████████████████████████████| (done) 100%\n",
      "=== GBM RESULTS (CORRECTED) ===\n",
      "AUC: 0.9102124007723664\n"
     ]
    }
   ],
   "source": [
    "# 3. Градиентный бустинг (GBM)\n",
    "gbm_model = H2OGradientBoostingEstimator(\n",
    "    model_id=\"gbm_heart_disease_corrected\", \n",
    "    ntrees=100,\n",
    "    max_depth=6,\n",
    "    learn_rate=0.1,\n",
    "    nfolds=5,\n",
    "    seed=42\n",
    ")\n",
    "\n",
    "gbm_model.train(\n",
    "    x=predictors,\n",
    "    y=response,\n",
    "    training_frame=train,\n",
    "    validation_frame=test\n",
    ")\n",
    "\n",
    "print(\"=== GBM RESULTS (CORRECTED) ===\") \n",
    "gbm_perf = gbm_model.model_performance(test)\n",
    "print(f\"AUC: {gbm_perf.auc()}\")"
   ]
  },
  {
   "cell_type": "code",
   "execution_count": 11,
   "id": "098c41cd-51ee-4952-9dc0-62bd5ca9fdc2",
   "metadata": {},
   "outputs": [
    {
     "name": "stdout",
     "output_type": "stream",
     "text": [
      "\n",
      "=== ALTERNATIVE METRICS ===\n",
      "GLM Metrics:\n",
      "Accuracy: 0.8768\n",
      "Precision: 1.0000\n",
      "Recall: 1.0000\n",
      "\n",
      "RF Metrics:\n",
      "Accuracy: 0.8768\n",
      "Precision: 1.0000\n",
      "Recall: 1.0000\n",
      "\n",
      "GBM Metrics:\n",
      "Accuracy: 0.8587\n",
      "Precision: 1.0000\n",
      "Recall: 1.0000\n"
     ]
    }
   ],
   "source": [
    "# Альтернативный способ получения метрик\n",
    "print(f\"\\n=== ALTERNATIVE METRICS ===\")\n",
    "print(\"GLM Metrics:\")\n",
    "print(f\"Accuracy: {glm_perf.accuracy()[0][1]:.4f}\")\n",
    "print(f\"Precision: {glm_perf.precision()[0][1]:.4f}\")\n",
    "print(f\"Recall: {glm_perf.recall()[0][1]:.4f}\")\n",
    "\n",
    "print(\"\\nRF Metrics:\")\n",
    "print(f\"Accuracy: {rf_perf.accuracy()[0][1]:.4f}\")\n",
    "print(f\"Precision: {rf_perf.precision()[0][1]:.4f}\")\n",
    "print(f\"Recall: {rf_perf.recall()[0][1]:.4f}\")\n",
    "\n",
    "print(\"\\nGBM Metrics:\")\n",
    "print(f\"Accuracy: {gbm_perf.accuracy()[0][1]:.4f}\")\n",
    "print(f\"Precision: {gbm_perf.precision()[0][1]:.4f}\")\n",
    "print(f\"Recall: {gbm_perf.recall()[0][1]:.4f}\")"
   ]
  },
  {
   "cell_type": "code",
   "execution_count": 10,
   "id": "9a90196c-4842-4fd6-a02f-caf71a0f9d09",
   "metadata": {},
   "outputs": [
    {
     "name": "stdout",
     "output_type": "stream",
     "text": [
      "glm prediction progress: |███████████████████████████████████████████████████████| (done) 100%\n",
      "drf prediction progress: |███████████████████████████████████████████████████████| (done) 100%\n",
      "gbm prediction progress: |███████████████████████████████████████████████████████| (done) 100%\n",
      "\n",
      "=== BLENDING RESULTS ===\n",
      "Blended Model Accuracy: 0.8514\n",
      "Blended Precision: 0.8462\n",
      "Blended Recall: 0.9051\n",
      "\n",
      "=== COMPARISON ===\n",
      "GLM  - Accuracy: 0.8768, Precision: 1.0000, Recall: 1.0000\n",
      "RF   - Accuracy: 0.8732, Precision: 1.0000, Recall: 1.0000\n",
      "GBM  - Accuracy: 0.8587, Precision: 1.0000, Recall: 1.0000\n",
      "BLEND - Accuracy: 0.8514, Precision: 0.8462, Recall: 0.9051\n"
     ]
    },
    {
     "name": "stderr",
     "output_type": "stream",
     "text": [
      "/home/konstantin/anaconda3/lib/python3.12/site-packages/h2o/frame.py:1983: H2ODependencyWarning: Converting H2O frame to pandas dataframe using single-thread.  For faster conversion using multi-thread, install polars and pyarrow and use it as pandas_df = h2o_df.as_data_frame(use_multi_thread=True)\n",
      "\n",
      "  warnings.warn(\"Converting H2O frame to pandas dataframe using single-thread.  For faster conversion using\"\n"
     ]
    }
   ],
   "source": [
    "# Получаем предсказания вероятностей от всех моделей\n",
    "glm_pred = glm_model.predict(test)\n",
    "rf_pred = rf_model.predict(test)\n",
    "gbm_pred = gbm_model.predict(test)\n",
    "\n",
    "# Блендинг путем усреднения вероятностей класса 1\n",
    "blended_probs = (glm_pred[\"p1\"] + rf_pred[\"p1\"] + gbm_pred[\"p1\"]) / 3\n",
    "\n",
    "# Создаем DataFrame с результатами блендинга\n",
    "blended_result = test[response].cbind(blended_probs)\n",
    "blended_result.set_names([\"actual\", \"blended_probability\"])\n",
    "\n",
    "print(f\"\\n=== BLENDING RESULTS ===\")\n",
    "\n",
    "# Создаем бинарные предсказания из вероятностей (порог 0.5)\n",
    "blended_pred = (blended_probs > 0.5).ifelse(1, 0)\n",
    "blended_result = blended_result.cbind(blended_pred)\n",
    "blended_result.set_names([\"actual\", \"blended_probability\", \"blended_pred\"])\n",
    "\n",
    "# Оцениваем accuracy блендинга\n",
    "blended_accuracy = (blended_result[\"actual\"] == blended_result[\"blended_pred\"]).mean()[0]\n",
    "print(f\"Blended Model Accuracy: {blended_accuracy:.4f}\")\n",
    "\n",
    "# Precision и Recall для блендинга (правильный расчет)\n",
    "blended_cm = blended_result[\"actual\"].cbind(blended_pred)\n",
    "\n",
    "# Преобразуем в pandas для удобства расчета\n",
    "blended_df = blended_cm.as_data_frame()\n",
    "\n",
    "tp = len(blended_df[(blended_df['actual'] == 1) & (blended_df['C1'] == 1)])\n",
    "fp = len(blended_df[(blended_df['actual'] == 0) & (blended_df['C1'] == 1)])\n",
    "fn = len(blended_df[(blended_df['actual'] == 1) & (blended_df['C1'] == 0)])\n",
    "\n",
    "blended_precision = tp / (tp + fp) if (tp + fp) > 0 else 0\n",
    "blended_recall = tp / (tp + fn) if (tp + fn) > 0 else 0\n",
    "\n",
    "print(f\"Blended Precision: {blended_precision:.4f}\")\n",
    "print(f\"Blended Recall: {blended_recall:.4f}\")\n",
    "\n",
    "# Сравнение с индивидуальными моделями\n",
    "print(f\"\\n=== COMPARISON ===\")\n",
    "print(f\"GLM  - Accuracy: 0.8768, Precision: 1.0000, Recall: 1.0000\")\n",
    "print(f\"RF   - Accuracy: 0.8732, Precision: 1.0000, Recall: 1.0000\") \n",
    "print(f\"GBM  - Accuracy: 0.8587, Precision: 1.0000, Recall: 1.0000\")\n",
    "print(f\"BLEND - Accuracy: {blended_accuracy:.4f}, Precision: {blended_precision:.4f}, Recall: {blended_recall:.4f}\")"
   ]
  },
  {
   "cell_type": "code",
   "execution_count": 12,
   "id": "455d4ca1-ec65-4ed5-a2d2-4f5e88d8b5c7",
   "metadata": {},
   "outputs": [
    {
     "name": "stdout",
     "output_type": "stream",
     "text": [
      "\n",
      "=== FEATURE IMPORTANCE ===\n",
      "\n",
      "Random Forest Feature Importance:\n",
      "      variable  relative_importance  scaled_importance  percentage\n",
      "0           Up          1985.530029           1.000000    0.172227\n",
      "1         Flat          1417.010620           0.713669    0.122913\n",
      "2      Oldpeak          1226.107178           0.617521    0.106354\n",
      "3          ASY          1223.855835           0.616387    0.106158\n",
      "4        MaxHR           974.127014           0.490613    0.084497\n",
      "5          Age           760.412109           0.382977    0.065959\n",
      "6    RestingBP           709.807251           0.357490    0.061569\n",
      "7  Cholesterol           639.535156           0.322098    0.055474\n",
      "8            Y           468.829102           0.236123    0.040667\n",
      "9            N           456.634888           0.229981    0.039609\n",
      "\n",
      "GBM Feature Importance:\n",
      "      variable  relative_importance  scaled_importance  percentage\n",
      "0           Up           312.367950           1.000000    0.411036\n",
      "1      Oldpeak            99.235588           0.317688    0.130581\n",
      "2          ASY            85.230278           0.272852    0.112152\n",
      "3        MaxHR            57.278770           0.183370    0.075371\n",
      "4    RestingBP            52.419254           0.167813    0.068977\n",
      "5            M            36.577900           0.117099    0.048132\n",
      "6          Age            29.559347           0.094630    0.038896\n",
      "7  Cholesterol            27.699766           0.088677    0.036449\n",
      "8            N            16.413654           0.052546    0.021598\n",
      "9    FastingBS            11.116199           0.035587    0.014627\n",
      "\n",
      "GLM Coefficients (первые 10 по модулю):\n",
      "Intercept: -2.4205\n",
      "ASY: 1.1352\n",
      "Up: -1.1108\n",
      "ATA: -1.0495\n",
      "FastingBS: 0.9497\n",
      "Flat: 0.8981\n",
      "M: 0.6650\n",
      "F: -0.6548\n",
      "Oldpeak: 0.4467\n",
      "N: -0.3692\n"
     ]
    }
   ],
   "source": [
    "print(\"\\n=== FEATURE IMPORTANCE ===\")\n",
    "\n",
    "print(\"\\nRandom Forest Feature Importance:\")\n",
    "rf_importance = rf_model.varimp(use_pandas=True)\n",
    "print(rf_importance.head(10))\n",
    "\n",
    "print(\"\\nGBM Feature Importance:\") \n",
    "gbm_importance = gbm_model.varimp(use_pandas=True)\n",
    "print(gbm_importance.head(10))\n",
    "\n",
    "print(\"\\nGLM Coefficients (первые 10 по модулю):\")\n",
    "glm_coef = glm_model.coef()\n",
    "# Сортируем по абсолютному значению\n",
    "sorted_coef = sorted(glm_coef.items(), key=lambda x: abs(x[1]), reverse=True)\n",
    "for feature, coef in sorted_coef[:10]:\n",
    "    print(f\"{feature}: {coef:.4f}\")"
   ]
  },
  {
   "cell_type": "code",
   "execution_count": 13,
   "id": "4a278ede-d27a-4ba9-9f30-ddcd8eff3cf2",
   "metadata": {},
   "outputs": [
    {
     "name": "stdout",
     "output_type": "stream",
     "text": [
      "=== KEY CLINICAL INSIGHTS ===\n",
      "🎯 КРИТИЧЕСКИЕ ДИАГНОСТИЧЕСКИЕ МАРКЕРЫ:\n",
      "1. ЭКГ-ПАРАМЕТРЫ: ST_Slope (Up/Flat) + Oldpeak - основные предикторы\n",
      "2. БЕССИМПТОМНАЯ ИШЕМИЯ: ASY chest pain - высокий риск\n",
      "3. ЛАБОРАТОРНЫЕ: FastingBS > 120 mg/dL - значимый фактор\n",
      "4. ДЕМОГРАФИЯ: Мужской пол (M) - фактор риска\n",
      "\n",
      "=== RECOMMENDATIONS FOR POWER BI DASHBOARD ===\n",
      "📈 ОСНОВНЫЕ ВИЗУАЛИЗАЦИИ:\n",
      "1. Важность признаков в ML-модели (бар-чарт)\n",
      "2. Распределение ST_Slope по диагнозам (pie chart)\n",
      "3. Связь ChestPainType с HeartDisease (stacked bar)\n",
      "4. Oldpeak vs HeartDisease (box plot)\n",
      "5. Демографические профили риска (heatmap)\n"
     ]
    }
   ],
   "source": [
    "print(\"=== KEY CLINICAL INSIGHTS ===\")\n",
    "print(\"🎯 КРИТИЧЕСКИЕ ДИАГНОСТИЧЕСКИЕ МАРКЕРЫ:\")\n",
    "print(\"1. ЭКГ-ПАРАМЕТРЫ: ST_Slope (Up/Flat) + Oldpeak - основные предикторы\")\n",
    "print(\"2. БЕССИМПТОМНАЯ ИШЕМИЯ: ASY chest pain - высокий риск\")\n",
    "print(\"3. ЛАБОРАТОРНЫЕ: FastingBS > 120 mg/dL - значимый фактор\")\n",
    "print(\"4. ДЕМОГРАФИЯ: Мужской пол (M) - фактор риска\")\n",
    "\n",
    "print(\"\\n=== RECOMMENDATIONS FOR POWER BI DASHBOARD ===\")\n",
    "print(\"📈 ОСНОВНЫЕ ВИЗУАЛИЗАЦИИ:\")\n",
    "print(\"1. Важность признаков в ML-модели (бар-чарт)\")\n",
    "print(\"2. Распределение ST_Slope по диагнозам (pie chart)\")\n",
    "print(\"3. Связь ChestPainType с HeartDisease (stacked bar)\")\n",
    "print(\"4. Oldpeak vs HeartDisease (box plot)\")\n",
    "print(\"5. Демографические профили риска (heatmap)\")"
   ]
  },
  {
   "cell_type": "code",
   "execution_count": 14,
   "id": "f2d5fad1-e5ce-4da8-9f6e-ec2013401281",
   "metadata": {},
   "outputs": [],
   "source": [
    "# Создаем DataFrame с важностью признаков\n",
    "feature_importance_data = {\n",
    "    'feature': ['ST_Slope_Up', 'ChestPainType_ASY', 'Oldpeak', 'ST_Slope_Flat', \n",
    "                'MaxHR', 'FastingBS', 'ChestPainType_ATA', 'Sex_M', 'Age', 'RestingBP'],\n",
    "    'importance_score': [0.172, 0.106, 0.105, 0.123, 0.086, 0.035, 0.028, 0.025, 0.066, 0.062],\n",
    "    'coefficient': [-1.115, 1.145, 0.452, 0.909, -0.210, 0.964, -1.066, 0.675, 0.189, 0.105]\n",
    "}\n",
    "\n",
    "feature_importance_df = pd.DataFrame(feature_importance_data)\n",
    "feature_importance_df.to_csv('feature_importance_glm.csv', index=False)"
   ]
  },
  {
   "cell_type": "code",
   "execution_count": 15,
   "id": "711062ca-ea3a-4059-a70c-e48d765d914b",
   "metadata": {},
   "outputs": [],
   "source": [
    "# Метрики GLM модели\n",
    "metrics_data = {\n",
    "    'metric': ['Accuracy', 'Precision', 'Recall', 'AUC', 'F1-Score'],\n",
    "    'value': [0.8768, 1.0000, 1.0000, 0.9219, 1.0000],\n",
    "    'model': ['GLM', 'GLM', 'GLM', 'GLM', 'GLM']\n",
    "}\n",
    "\n",
    "metrics_df = pd.DataFrame(metrics_data)\n",
    "metrics_df.to_csv('model_metrics_glm.csv', index=False)"
   ]
  },
  {
   "cell_type": "code",
   "execution_count": 16,
   "id": "5f22533d-f754-4ecb-95a4-baa4a7c76f43",
   "metadata": {},
   "outputs": [
    {
     "name": "stdout",
     "output_type": "stream",
     "text": [
      "glm prediction progress: |███████████████████████████████████████████████████████| (done) 100%\n"
     ]
    },
    {
     "name": "stderr",
     "output_type": "stream",
     "text": [
      "/home/konstantin/anaconda3/lib/python3.12/site-packages/h2o/frame.py:1983: H2ODependencyWarning: Converting H2O frame to pandas dataframe using single-thread.  For faster conversion using multi-thread, install polars and pyarrow and use it as pandas_df = h2o_df.as_data_frame(use_multi_thread=True)\n",
      "\n",
      "  warnings.warn(\"Converting H2O frame to pandas dataframe using single-thread.  For faster conversion using\"\n"
     ]
    }
   ],
   "source": [
    "# Получаем предсказания из GLM модели\n",
    "glm_pred = glm_model.predict(test)\n",
    "\n",
    "# Создаем DataFrame с предсказаниями\n",
    "predictions_df = test[['HeartDisease']].cbind(glm_pred[['predict', 'p0', 'p1']])\n",
    "predictions_pd = predictions_df.as_data_frame()\n",
    "\n",
    "# Сохраняем в CSV\n",
    "predictions_pd.to_csv('predictions_glm.csv', index=False)"
   ]
  },
  {
   "cell_type": "code",
   "execution_count": null,
   "id": "eefe49fe-ab36-4423-b868-87e2ffa08f2c",
   "metadata": {},
   "outputs": [],
   "source": []
  }
 ],
 "metadata": {
  "kernelspec": {
   "display_name": "Python 3 (ipykernel)",
   "language": "python",
   "name": "python3"
  },
  "language_info": {
   "codemirror_mode": {
    "name": "ipython",
    "version": 3
   },
   "file_extension": ".py",
   "mimetype": "text/x-python",
   "name": "python",
   "nbconvert_exporter": "python",
   "pygments_lexer": "ipython3",
   "version": "3.12.4"
  }
 },
 "nbformat": 4,
 "nbformat_minor": 5
}
